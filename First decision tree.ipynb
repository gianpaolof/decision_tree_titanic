{
 "cells": [
  {
   "cell_type": "code",
   "execution_count": 49,
   "id": "b8f11373-9702-489b-8c73-ad3261aa332c",
   "metadata": {},
   "outputs": [
    {
     "data": {
      "text/html": [
       "<div>\n",
       "<style scoped>\n",
       "    .dataframe tbody tr th:only-of-type {\n",
       "        vertical-align: middle;\n",
       "    }\n",
       "\n",
       "    .dataframe tbody tr th {\n",
       "        vertical-align: top;\n",
       "    }\n",
       "\n",
       "    .dataframe thead th {\n",
       "        text-align: right;\n",
       "    }\n",
       "</style>\n",
       "<table border=\"1\" class=\"dataframe\">\n",
       "  <thead>\n",
       "    <tr style=\"text-align: right;\">\n",
       "      <th></th>\n",
       "      <th>PassengerId</th>\n",
       "      <th>Survived</th>\n",
       "      <th>Pclass</th>\n",
       "      <th>Name</th>\n",
       "      <th>Sex</th>\n",
       "      <th>Age</th>\n",
       "      <th>SibSp</th>\n",
       "      <th>Parch</th>\n",
       "      <th>Ticket</th>\n",
       "      <th>Fare</th>\n",
       "      <th>Cabin</th>\n",
       "      <th>Embarked</th>\n",
       "    </tr>\n",
       "  </thead>\n",
       "  <tbody>\n",
       "    <tr>\n",
       "      <th>0</th>\n",
       "      <td>1</td>\n",
       "      <td>0</td>\n",
       "      <td>3</td>\n",
       "      <td>Braund, Mr. Owen Harris</td>\n",
       "      <td>male</td>\n",
       "      <td>22.0</td>\n",
       "      <td>1</td>\n",
       "      <td>0</td>\n",
       "      <td>A/5 21171</td>\n",
       "      <td>7.2500</td>\n",
       "      <td>NaN</td>\n",
       "      <td>S</td>\n",
       "    </tr>\n",
       "    <tr>\n",
       "      <th>1</th>\n",
       "      <td>2</td>\n",
       "      <td>1</td>\n",
       "      <td>1</td>\n",
       "      <td>Cumings, Mrs. John Bradley (Florence Briggs Th...</td>\n",
       "      <td>female</td>\n",
       "      <td>38.0</td>\n",
       "      <td>1</td>\n",
       "      <td>0</td>\n",
       "      <td>PC 17599</td>\n",
       "      <td>71.2833</td>\n",
       "      <td>C85</td>\n",
       "      <td>C</td>\n",
       "    </tr>\n",
       "    <tr>\n",
       "      <th>2</th>\n",
       "      <td>3</td>\n",
       "      <td>1</td>\n",
       "      <td>3</td>\n",
       "      <td>Heikkinen, Miss. Laina</td>\n",
       "      <td>female</td>\n",
       "      <td>26.0</td>\n",
       "      <td>0</td>\n",
       "      <td>0</td>\n",
       "      <td>STON/O2. 3101282</td>\n",
       "      <td>7.9250</td>\n",
       "      <td>NaN</td>\n",
       "      <td>S</td>\n",
       "    </tr>\n",
       "  </tbody>\n",
       "</table>\n",
       "</div>"
      ],
      "text/plain": [
       "   PassengerId  Survived  Pclass  \\\n",
       "0            1         0       3   \n",
       "1            2         1       1   \n",
       "2            3         1       3   \n",
       "\n",
       "                                                Name     Sex   Age  SibSp  \\\n",
       "0                            Braund, Mr. Owen Harris    male  22.0      1   \n",
       "1  Cumings, Mrs. John Bradley (Florence Briggs Th...  female  38.0      1   \n",
       "2                             Heikkinen, Miss. Laina  female  26.0      0   \n",
       "\n",
       "   Parch            Ticket     Fare Cabin Embarked  \n",
       "0      0         A/5 21171   7.2500   NaN        S  \n",
       "1      0          PC 17599  71.2833   C85        C  \n",
       "2      0  STON/O2. 3101282   7.9250   NaN        S  "
      ]
     },
     "execution_count": 49,
     "metadata": {},
     "output_type": "execute_result"
    }
   ],
   "source": [
    "# Imports needed for the script\n",
    "import numpy as np\n",
    "import pandas as pd\n",
    "import re\n",
    "import matplotlib.pyplot as plt\n",
    "%matplotlib inline\n",
    "\n",
    "\n",
    "from sklearn import tree\n",
    "from sklearn.metrics import accuracy_score\n",
    "from sklearn.model_selection import KFold\n",
    "from sklearn.model_selection import cross_val_score\n",
    "from IPython.display import Image as PImage\n",
    "from subprocess import check_call\n",
    "from PIL import Image, ImageDraw, ImageFont\n",
    "import seaborn as sns\n",
    "# Loading the data\n",
    "train = pd.read_csv('train.csv')\n",
    "test = pd.read_csv('test.csv')\n",
    "\n",
    "# Store our test passenger IDs for easy access\n",
    "PassengerId = test['PassengerId']\n",
    "\n",
    "# Showing overview of the train dataset\n",
    "train.head(3)"
   ]
  },
  {
   "cell_type": "code",
   "execution_count": 50,
   "id": "85ec4144-314a-4337-8b33-dd0778b44314",
   "metadata": {},
   "outputs": [],
   "source": [
    "# Copy original dataset in case we need it later when digging into interesting features\n",
    "# WARNING: Beware of actually copying the dataframe instead of just referencing it\n",
    "# \"original_train = train\" will create a reference to the train variable (changes in 'train' will apply to 'original_train')\n",
    "original_train = train.copy() # Using 'copy()' allows to clone the dataset, creating a different object with the same values\n",
    "original_train2 = train.copy()\n",
    "# Feature engineering steps taken from Sina and Anisotropic, with minor changes to avoid warnings\n",
    "full_data = [train, test]\n",
    "\n",
    "# Feature that tells whether a passenger had a cabin on the Titanic\n",
    "train['Has_Cabin'] = train[\"Cabin\"].apply(lambda x: 0 if type(x) == float else 1)\n",
    "test['Has_Cabin'] = test[\"Cabin\"].apply(lambda x: 0 if type(x) == float else 1)\n",
    "\n",
    "# Create new feature FamilySize as a combination of SibSp and Parch\n",
    "for dataset in full_data:\n",
    "    dataset['FamilySize'] = dataset['SibSp'] + dataset['Parch'] + 1\n",
    "# Create new feature IsAlone from FamilySize\n",
    "for dataset in full_data:\n",
    "    dataset['IsAlone'] = 0\n",
    "    dataset.loc[dataset['FamilySize'] == 1, 'IsAlone'] = 1\n",
    "# Remove all NULLS in the Embarked column\n",
    "for dataset in full_data:\n",
    "    dataset['Embarked'] = dataset['Embarked'].fillna('S')\n",
    "# Remove all NULLS in the Fare column\n",
    "for dataset in full_data:\n",
    "    dataset['Fare'] = dataset['Fare'].fillna(train['Fare'].median())\n",
    "\n",
    "# Remove all NULLS in the Age column\n",
    "for dataset in full_data:\n",
    "    age_avg = dataset['Age'].mean()\n",
    "    age_std = dataset['Age'].std()\n",
    "    age_null_count = dataset['Age'].isnull().sum()\n",
    "    age_null_random_list = np.random.randint(age_avg - age_std, age_avg + age_std, size=age_null_count)\n",
    "    # Next line has been improved to avoid warning\n",
    "    dataset.loc[np.isnan(dataset['Age']), 'Age'] = age_null_random_list\n",
    "    dataset['Age'] = dataset['Age'].astype(int)\n",
    "\n",
    "# Define function to extract titles from passenger names\n",
    "def get_title(name):\n",
    "    title_search = re.search(' ([A-Za-z]+)\\.', name)\n",
    "    # If the title exists, extract and return it.\n",
    "    if title_search:\n",
    "        return title_search.group(1)\n",
    "    return \"\"\n",
    "\n",
    "for dataset in full_data:\n",
    "    dataset['Title'] = dataset['Name'].apply(get_title)\n",
    "# Group all non-common titles into one single grouping \"Rare\"\n",
    "for dataset in full_data:\n",
    "    dataset['Title'] = dataset['Title'].replace(['Lady', 'Countess','Capt', 'Col','Don', 'Dr', 'Major', 'Rev', 'Sir', 'Jonkheer', 'Dona'], 'Rare')\n",
    "\n",
    "    dataset['Title'] = dataset['Title'].replace('Mlle', 'Miss')\n",
    "    dataset['Title'] = dataset['Title'].replace('Ms', 'Miss')\n",
    "    dataset['Title'] = dataset['Title'].replace('Mme', 'Mrs')\n",
    "\n",
    "\n",
    "for dataset in full_data:\n",
    "    # Mapping Sex\n",
    "    dataset['Sex'] = dataset['Sex'].map( {'female': 0, 'male': 1} ).astype(int)\n",
    "    \n",
    "    # Mapping titles\n",
    "    title_mapping = {\"Mr\": 1, \"Master\": 2, \"Mrs\": 3, \"Miss\": 4, \"Rare\": 5}\n",
    "    dataset['Title'] = dataset['Title'].map(title_mapping)\n",
    "    dataset['Title'] = dataset['Title'].fillna(0)\n",
    "\n",
    "    # Mapping Embarked\n",
    "    dataset['Embarked'] = dataset['Embarked'].map( {'S': 0, 'C': 1, 'Q': 2} ).astype(int)\n",
    "    \n",
    "    # Mapping Fare\n",
    "    dataset.loc[ dataset['Fare'] <= 7.91, 'Fare'] \t\t\t\t\t\t        = 0\n",
    "    dataset.loc[(dataset['Fare'] > 7.91) & (dataset['Fare'] <= 14.454), 'Fare'] = 1\n",
    "    dataset.loc[(dataset['Fare'] > 14.454) & (dataset['Fare'] <= 31), 'Fare']   = 2\n",
    "    dataset.loc[ dataset['Fare'] > 31, 'Fare'] \t\t\t\t\t\t\t        = 3\n",
    "    dataset['Fare'] = dataset['Fare'].astype(int)\n",
    "    \n",
    "    # Mapping Age\n",
    "    dataset.loc[ dataset['Age'] <= 16, 'Age'] \t\t\t\t\t       = 0\n",
    "    dataset.loc[(dataset['Age'] > 16) & (dataset['Age'] <= 32), 'Age'] = 1\n",
    "    dataset.loc[(dataset['Age'] > 32) & (dataset['Age'] <= 48), 'Age'] = 2\n",
    "    dataset.loc[(dataset['Age'] > 48) & (dataset['Age'] <= 64), 'Age'] = 3\n",
    "    dataset.loc[ dataset['Age'] > 64, 'Age'] ;\n"
   ]
  },
  {
   "cell_type": "code",
   "execution_count": 51,
   "id": "17f88ecb-f18b-496b-8381-6390f1785a28",
   "metadata": {},
   "outputs": [],
   "source": [
    "# Feature selection: remove variables no longer containing relevant information\n",
    "drop_elements = ['PassengerId', 'Name', 'Ticket', 'Cabin', 'SibSp']\n",
    "train = train.drop(drop_elements, axis = 1)\n",
    "test  = test.drop(drop_elements, axis = 1)"
   ]
  },
  {
   "cell_type": "code",
   "execution_count": 52,
   "id": "06e7163d-906b-45b5-8c6c-4b6687c108a4",
   "metadata": {},
   "outputs": [
    {
     "data": {
      "text/html": [
       "<div>\n",
       "<style scoped>\n",
       "    .dataframe tbody tr th:only-of-type {\n",
       "        vertical-align: middle;\n",
       "    }\n",
       "\n",
       "    .dataframe tbody tr th {\n",
       "        vertical-align: top;\n",
       "    }\n",
       "\n",
       "    .dataframe thead th {\n",
       "        text-align: right;\n",
       "    }\n",
       "</style>\n",
       "<table border=\"1\" class=\"dataframe\">\n",
       "  <thead>\n",
       "    <tr style=\"text-align: right;\">\n",
       "      <th></th>\n",
       "      <th>Survived</th>\n",
       "      <th>Pclass</th>\n",
       "      <th>Sex</th>\n",
       "      <th>Age</th>\n",
       "      <th>Parch</th>\n",
       "      <th>Fare</th>\n",
       "      <th>Embarked</th>\n",
       "      <th>Has_Cabin</th>\n",
       "      <th>FamilySize</th>\n",
       "      <th>IsAlone</th>\n",
       "      <th>Title</th>\n",
       "    </tr>\n",
       "  </thead>\n",
       "  <tbody>\n",
       "    <tr>\n",
       "      <th>0</th>\n",
       "      <td>0</td>\n",
       "      <td>3</td>\n",
       "      <td>1</td>\n",
       "      <td>1</td>\n",
       "      <td>0</td>\n",
       "      <td>0</td>\n",
       "      <td>0</td>\n",
       "      <td>0</td>\n",
       "      <td>2</td>\n",
       "      <td>0</td>\n",
       "      <td>1</td>\n",
       "    </tr>\n",
       "    <tr>\n",
       "      <th>1</th>\n",
       "      <td>1</td>\n",
       "      <td>1</td>\n",
       "      <td>0</td>\n",
       "      <td>2</td>\n",
       "      <td>0</td>\n",
       "      <td>3</td>\n",
       "      <td>1</td>\n",
       "      <td>1</td>\n",
       "      <td>2</td>\n",
       "      <td>0</td>\n",
       "      <td>3</td>\n",
       "    </tr>\n",
       "    <tr>\n",
       "      <th>2</th>\n",
       "      <td>1</td>\n",
       "      <td>3</td>\n",
       "      <td>0</td>\n",
       "      <td>1</td>\n",
       "      <td>0</td>\n",
       "      <td>1</td>\n",
       "      <td>0</td>\n",
       "      <td>0</td>\n",
       "      <td>1</td>\n",
       "      <td>1</td>\n",
       "      <td>4</td>\n",
       "    </tr>\n",
       "  </tbody>\n",
       "</table>\n",
       "</div>"
      ],
      "text/plain": [
       "   Survived  Pclass  Sex  Age  Parch  Fare  Embarked  Has_Cabin  FamilySize  \\\n",
       "0         0       3    1    1      0     0         0          0           2   \n",
       "1         1       1    0    2      0     3         1          1           2   \n",
       "2         1       3    0    1      0     1         0          0           1   \n",
       "\n",
       "   IsAlone  Title  \n",
       "0        0      1  \n",
       "1        0      3  \n",
       "2        1      4  "
      ]
     },
     "execution_count": 52,
     "metadata": {},
     "output_type": "execute_result"
    }
   ],
   "source": [
    "\n",
    "\n",
    "train.head(3)\n",
    "\n"
   ]
  },
  {
   "cell_type": "code",
   "execution_count": 53,
   "id": "3bcd0d9f-3990-4a62-9752-89cb39718e2f",
   "metadata": {},
   "outputs": [
    {
     "data": {
      "text/plain": [
       "<Axes: title={'center': 'Pearson Correlation of Features'}>"
      ]
     },
     "execution_count": 53,
     "metadata": {},
     "output_type": "execute_result"
    },
    {
     "data": {
      "image/png": "[encoded data removed]",
      "text/plain": [
       "<Figure size 1200x1200 with 2 Axes>"
      ]
     },
     "metadata": {},
     "output_type": "display_data"
    }
   ],
   "source": [
    "colormap = plt.cm.viridis\n",
    "plt.figure(figsize=(12,12))\n",
    "plt.title('Pearson Correlation of Features', y=1.05, size=15)\n",
    "sns.heatmap(train.astype(float).corr(),linewidths=0.1,vmax=1.0, square=True, cmap=colormap, linecolor='white', annot=True)\n",
    "\n"
   ]
  },
  {
   "cell_type": "code",
   "execution_count": 54,
   "id": "e5da2dc8-d4ed-4f8f-9565-e9b60a2d1c0e",
   "metadata": {},
   "outputs": [
    {
     "data": {
      "text/html": [
       "<div>\n",
       "<style scoped>\n",
       "    .dataframe tbody tr th:only-of-type {\n",
       "        vertical-align: middle;\n",
       "    }\n",
       "\n",
       "    .dataframe tbody tr th {\n",
       "        vertical-align: top;\n",
       "    }\n",
       "\n",
       "    .dataframe thead tr th {\n",
       "        text-align: left;\n",
       "    }\n",
       "</style>\n",
       "<table border=\"1\" class=\"dataframe\">\n",
       "  <thead>\n",
       "    <tr>\n",
       "      <th></th>\n",
       "      <th>Title</th>\n",
       "      <th colspan=\"3\" halign=\"left\">Survived</th>\n",
       "    </tr>\n",
       "    <tr>\n",
       "      <th></th>\n",
       "      <th></th>\n",
       "      <th>mean</th>\n",
       "      <th>count</th>\n",
       "      <th>sum</th>\n",
       "    </tr>\n",
       "  </thead>\n",
       "  <tbody>\n",
       "    <tr>\n",
       "      <th>0</th>\n",
       "      <td>1</td>\n",
       "      <td>0.156673</td>\n",
       "      <td>517</td>\n",
       "      <td>81</td>\n",
       "    </tr>\n",
       "    <tr>\n",
       "      <th>1</th>\n",
       "      <td>2</td>\n",
       "      <td>0.575000</td>\n",
       "      <td>40</td>\n",
       "      <td>23</td>\n",
       "    </tr>\n",
       "    <tr>\n",
       "      <th>2</th>\n",
       "      <td>3</td>\n",
       "      <td>0.793651</td>\n",
       "      <td>126</td>\n",
       "      <td>100</td>\n",
       "    </tr>\n",
       "    <tr>\n",
       "      <th>3</th>\n",
       "      <td>4</td>\n",
       "      <td>0.702703</td>\n",
       "      <td>185</td>\n",
       "      <td>130</td>\n",
       "    </tr>\n",
       "    <tr>\n",
       "      <th>4</th>\n",
       "      <td>5</td>\n",
       "      <td>0.347826</td>\n",
       "      <td>23</td>\n",
       "      <td>8</td>\n",
       "    </tr>\n",
       "  </tbody>\n",
       "</table>\n",
       "</div>"
      ],
      "text/plain": [
       "  Title  Survived           \n",
       "             mean count  sum\n",
       "0     1  0.156673   517   81\n",
       "1     2  0.575000    40   23\n",
       "2     3  0.793651   126  100\n",
       "3     4  0.702703   185  130\n",
       "4     5  0.347826    23    8"
      ]
     },
     "execution_count": 54,
     "metadata": {},
     "output_type": "execute_result"
    }
   ],
   "source": [
    "train[['Title', 'Survived']].groupby(['Title'], as_index=False).agg(['mean', 'count', 'sum'])\n",
    "# Since \"Survived\" is a binary class (0 or 1), these metrics grouped by the Title feature represent:\n",
    "    # MEAN: survival rate\n",
    "    # COUNT: total observations\n",
    "    # SUM: people survived\n",
    "\n",
    "# title_mapping = {\"Mr\": 1, \"Miss\": 2, \"Mrs\": 3, \"Master\": 4, \"Rare\": 5} "
   ]
  },
  {
   "cell_type": "code",
   "execution_count": 55,
   "id": "de720181-4c0c-42be-8b15-dcf52c2ad93e",
   "metadata": {},
   "outputs": [
    {
     "data": {
      "text/html": [
       "<div>\n",
       "<style scoped>\n",
       "    .dataframe tbody tr th:only-of-type {\n",
       "        vertical-align: middle;\n",
       "    }\n",
       "\n",
       "    .dataframe tbody tr th {\n",
       "        vertical-align: top;\n",
       "    }\n",
       "\n",
       "    .dataframe thead tr th {\n",
       "        text-align: left;\n",
       "    }\n",
       "</style>\n",
       "<table border=\"1\" class=\"dataframe\">\n",
       "  <thead>\n",
       "    <tr>\n",
       "      <th></th>\n",
       "      <th>Sex</th>\n",
       "      <th colspan=\"3\" halign=\"left\">Survived</th>\n",
       "    </tr>\n",
       "    <tr>\n",
       "      <th></th>\n",
       "      <th></th>\n",
       "      <th>mean</th>\n",
       "      <th>count</th>\n",
       "      <th>sum</th>\n",
       "    </tr>\n",
       "  </thead>\n",
       "  <tbody>\n",
       "    <tr>\n",
       "      <th>0</th>\n",
       "      <td>0</td>\n",
       "      <td>0.742038</td>\n",
       "      <td>314</td>\n",
       "      <td>233</td>\n",
       "    </tr>\n",
       "    <tr>\n",
       "      <th>1</th>\n",
       "      <td>1</td>\n",
       "      <td>0.188908</td>\n",
       "      <td>577</td>\n",
       "      <td>109</td>\n",
       "    </tr>\n",
       "  </tbody>\n",
       "</table>\n",
       "</div>"
      ],
      "text/plain": [
       "  Sex  Survived           \n",
       "           mean count  sum\n",
       "0   0  0.742038   314  233\n",
       "1   1  0.188908   577  109"
      ]
     },
     "execution_count": 55,
     "metadata": {},
     "output_type": "execute_result"
    }
   ],
   "source": [
    "train[['Sex', 'Survived']].groupby(['Sex'], as_index=False).agg(['mean', 'count', 'sum'])\n",
    "# Since Survived is a binary feature, this metrics grouped by the Sex feature represent:\n",
    "    # MEAN: survival rate\n",
    "    # COUNT: total observations\n",
    "    # SUM: people survived\n",
    "    \n",
    "# sex_mapping = {{'female': 0, 'male': 1}} "
   ]
  },
  {
   "cell_type": "code",
   "execution_count": 56,
   "id": "cd43ff2e-7452-415e-b5a3-f197c0fa6079",
   "metadata": {},
   "outputs": [],
   "source": [
    "#The data shows that less 'Mr' survived (15,67%) than men in general (18.89%): Title seems therefore to be more useful than Sex for our purpose. This may be because Title implicitly includes information about Sex in most cases. \n",
    "#To verify this, we can use the copy we made of the original training data without mappings and check the distribution of Sex grouped by Title."
   ]
  },
  {
   "cell_type": "code",
   "execution_count": 57,
   "id": "5cc82f0f-05ba-4124-9aa6-baf0a9280b48",
   "metadata": {},
   "outputs": [
    {
     "data": {
      "text/html": [
       "<div>\n",
       "<style scoped>\n",
       "    .dataframe tbody tr th:only-of-type {\n",
       "        vertical-align: middle;\n",
       "    }\n",
       "\n",
       "    .dataframe tbody tr th {\n",
       "        vertical-align: top;\n",
       "    }\n",
       "\n",
       "    .dataframe thead tr th {\n",
       "        text-align: left;\n",
       "    }\n",
       "</style>\n",
       "<table border=\"1\" class=\"dataframe\">\n",
       "  <thead>\n",
       "    <tr>\n",
       "      <th></th>\n",
       "      <th>Title</th>\n",
       "      <th colspan=\"3\" halign=\"left\">Sex</th>\n",
       "    </tr>\n",
       "    <tr>\n",
       "      <th></th>\n",
       "      <th></th>\n",
       "      <th>mean</th>\n",
       "      <th>count</th>\n",
       "      <th>sum</th>\n",
       "    </tr>\n",
       "  </thead>\n",
       "  <tbody>\n",
       "    <tr>\n",
       "      <th>0</th>\n",
       "      <td>Capt</td>\n",
       "      <td>1.000000</td>\n",
       "      <td>1</td>\n",
       "      <td>1</td>\n",
       "    </tr>\n",
       "    <tr>\n",
       "      <th>1</th>\n",
       "      <td>Col</td>\n",
       "      <td>1.000000</td>\n",
       "      <td>2</td>\n",
       "      <td>2</td>\n",
       "    </tr>\n",
       "    <tr>\n",
       "      <th>2</th>\n",
       "      <td>Countess</td>\n",
       "      <td>0.000000</td>\n",
       "      <td>1</td>\n",
       "      <td>0</td>\n",
       "    </tr>\n",
       "    <tr>\n",
       "      <th>3</th>\n",
       "      <td>Don</td>\n",
       "      <td>1.000000</td>\n",
       "      <td>1</td>\n",
       "      <td>1</td>\n",
       "    </tr>\n",
       "    <tr>\n",
       "      <th>4</th>\n",
       "      <td>Dr</td>\n",
       "      <td>0.857143</td>\n",
       "      <td>7</td>\n",
       "      <td>6</td>\n",
       "    </tr>\n",
       "    <tr>\n",
       "      <th>5</th>\n",
       "      <td>Jonkheer</td>\n",
       "      <td>1.000000</td>\n",
       "      <td>1</td>\n",
       "      <td>1</td>\n",
       "    </tr>\n",
       "    <tr>\n",
       "      <th>6</th>\n",
       "      <td>Lady</td>\n",
       "      <td>0.000000</td>\n",
       "      <td>1</td>\n",
       "      <td>0</td>\n",
       "    </tr>\n",
       "    <tr>\n",
       "      <th>7</th>\n",
       "      <td>Major</td>\n",
       "      <td>1.000000</td>\n",
       "      <td>2</td>\n",
       "      <td>2</td>\n",
       "    </tr>\n",
       "    <tr>\n",
       "      <th>8</th>\n",
       "      <td>Master</td>\n",
       "      <td>1.000000</td>\n",
       "      <td>40</td>\n",
       "      <td>40</td>\n",
       "    </tr>\n",
       "    <tr>\n",
       "      <th>9</th>\n",
       "      <td>Miss</td>\n",
       "      <td>0.000000</td>\n",
       "      <td>182</td>\n",
       "      <td>0</td>\n",
       "    </tr>\n",
       "    <tr>\n",
       "      <th>10</th>\n",
       "      <td>Mlle</td>\n",
       "      <td>0.000000</td>\n",
       "      <td>2</td>\n",
       "      <td>0</td>\n",
       "    </tr>\n",
       "    <tr>\n",
       "      <th>11</th>\n",
       "      <td>Mme</td>\n",
       "      <td>0.000000</td>\n",
       "      <td>1</td>\n",
       "      <td>0</td>\n",
       "    </tr>\n",
       "    <tr>\n",
       "      <th>12</th>\n",
       "      <td>Mr</td>\n",
       "      <td>1.000000</td>\n",
       "      <td>517</td>\n",
       "      <td>517</td>\n",
       "    </tr>\n",
       "    <tr>\n",
       "      <th>13</th>\n",
       "      <td>Mrs</td>\n",
       "      <td>0.000000</td>\n",
       "      <td>125</td>\n",
       "      <td>0</td>\n",
       "    </tr>\n",
       "    <tr>\n",
       "      <th>14</th>\n",
       "      <td>Ms</td>\n",
       "      <td>0.000000</td>\n",
       "      <td>1</td>\n",
       "      <td>0</td>\n",
       "    </tr>\n",
       "    <tr>\n",
       "      <th>15</th>\n",
       "      <td>Rev</td>\n",
       "      <td>1.000000</td>\n",
       "      <td>6</td>\n",
       "      <td>6</td>\n",
       "    </tr>\n",
       "    <tr>\n",
       "      <th>16</th>\n",
       "      <td>Sir</td>\n",
       "      <td>1.000000</td>\n",
       "      <td>1</td>\n",
       "      <td>1</td>\n",
       "    </tr>\n",
       "  </tbody>\n",
       "</table>\n",
       "</div>"
      ],
      "text/plain": [
       "       Title       Sex           \n",
       "                  mean count  sum\n",
       "0       Capt  1.000000     1    1\n",
       "1        Col  1.000000     2    2\n",
       "2   Countess  0.000000     1    0\n",
       "3        Don  1.000000     1    1\n",
       "4         Dr  0.857143     7    6\n",
       "5   Jonkheer  1.000000     1    1\n",
       "6       Lady  0.000000     1    0\n",
       "7      Major  1.000000     2    2\n",
       "8     Master  1.000000    40   40\n",
       "9       Miss  0.000000   182    0\n",
       "10      Mlle  0.000000     2    0\n",
       "11       Mme  0.000000     1    0\n",
       "12        Mr  1.000000   517  517\n",
       "13       Mrs  0.000000   125    0\n",
       "14        Ms  0.000000     1    0\n",
       "15       Rev  1.000000     6    6\n",
       "16       Sir  1.000000     1    1"
      ]
     },
     "execution_count": 57,
     "metadata": {},
     "output_type": "execute_result"
    }
   ],
   "source": [
    "# Let's use our 'original_train' dataframe to check the sex distribution for each title.\n",
    "# We use copy() again to prevent modifications in out original_train dataset\n",
    "title_and_sex = original_train.copy()[['Name', 'Sex']]\n",
    "\n",
    "# Create 'Title' feature\n",
    "title_and_sex['Title'] = title_and_sex['Name'].apply(get_title)\n",
    "\n",
    "# Map 'Sex' as binary feature\n",
    "title_and_sex['Sex'] = title_and_sex['Sex'].map( {'female': 0, 'male': 1} ).astype(int)\n",
    "\n",
    "# Table with 'Sex' distribution grouped by 'Title'\n",
    "title_and_sex[['Title', 'Sex']].groupby(['Title'], as_index=False).agg(['mean', 'count', 'sum'])\n",
    "\n",
    "# Since Sex is a binary feature, this metrics grouped by the Title feature represent:\n",
    "    # MEAN: percentage of men\n",
    "    # COUNT: total observations\n",
    "    # SUM: number of men"
   ]
  },
  {
   "cell_type": "code",
   "execution_count": 58,
   "id": "43d1cd64-abb4-409d-9f60-4fe07ebdc29c",
   "metadata": {},
   "outputs": [],
   "source": [
    "#We find that, excepting for a single observation (a female with 'Dr' title), \n",
    "#all the observations for a given Title share the same Sex. \n",
    "#Therefore the feature Title is capturing all the information present in Sex. \n",
    "#In addition, Title may be more valuable to our task by capturing other characteristics of the individuals like age, social class, personality, ...\n",
    "\n",
    "#Thanks to this in-depth analysis of the Sex and Title features we've seen that, \n",
    "#even if the correlation of the feature Sex with the class Survived was higher, \n",
    "#Title is a richer feature because it carries the Sex information but also adds other characteristics. \n",
    "#Therefore is very likely that Title is going to be the first feature in our final decision tree, making Sex useless after this initial split."
   ]
  },
  {
   "cell_type": "code",
   "execution_count": 59,
   "id": "4aad6317-33ea-4efa-9eee-8f598d0851cb",
   "metadata": {},
   "outputs": [],
   "source": [
    "def get_gini_impurity(survived_count, total_count):\n",
    "    \"\"\"Calculates the Gini Impurity using the formal definition.\n",
    "\n",
    "    Args:\n",
    "        survived_count: The number of observations that survived.\n",
    "        total_count: The total number of observations.\n",
    "\n",
    "    Returns:\n",
    "        The Gini Impurity value.\n",
    "    \"\"\"\n",
    "\n",
    "    p_survived = survived_count / total_count\n",
    "    p_not_survived = 1 - p_survived\n",
    "    gini_impurity = 1 - (p_survived**2 + p_not_survived**2)\n",
    "\n",
    "    return gini_impurity"
   ]
  },
  {
   "cell_type": "code",
   "execution_count": 60,
   "id": "936f3765-bdd5-462b-af66-14c8c8af447d",
   "metadata": {},
   "outputs": [
    {
     "data": {
      "text/plain": [
       "0.4730129578614428"
      ]
     },
     "execution_count": 60,
     "metadata": {},
     "output_type": "execute_result"
    }
   ],
   "source": [
    "# Gini Impurity of starting node\n",
    "gini_impurity_starting_node = get_gini_impurity(342, 891)\n",
    "gini_impurity_starting_node"
   ]
  },
  {
   "cell_type": "code",
   "execution_count": 61,
   "id": "873df1f8-e29d-448e-a534-cbdb73c8bcbd",
   "metadata": {},
   "outputs": [
    {
     "data": {
      "text/plain": [
       "0.3064437162277842"
      ]
     },
     "execution_count": 61,
     "metadata": {},
     "output_type": "execute_result"
    }
   ],
   "source": [
    "# Gini Impurity decrease of node for 'male' observations\n",
    "gini_impurity_men = get_gini_impurity(109, 577)\n",
    "gini_impurity_men"
   ]
  },
  {
   "cell_type": "code",
   "execution_count": 62,
   "id": "816a3b9d-3adf-4ef6-9392-facb6c1970fa",
   "metadata": {},
   "outputs": [
    {
     "data": {
      "text/plain": [
       "0.3828350034484158"
      ]
     },
     "execution_count": 62,
     "metadata": {},
     "output_type": "execute_result"
    }
   ],
   "source": [
    "\n",
    "\n",
    "# Gini Impurity decrease if node splited for 'female' observations\n",
    "gini_impurity_women = get_gini_impurity(233, 314)\n",
    "gini_impurity_women\n",
    "\n"
   ]
  },
  {
   "cell_type": "code",
   "execution_count": 63,
   "id": "cdd5bf34-8548-4e2a-b06b-b4b3198387cc",
   "metadata": {},
   "outputs": [
    {
     "data": {
      "text/plain": [
       "-0.1396479574728524"
      ]
     },
     "execution_count": 63,
     "metadata": {},
     "output_type": "execute_result"
    }
   ],
   "source": [
    "\n",
    "\n",
    "# Gini Impurity decrease if node splited by Sex\n",
    "men_weight = 577/891\n",
    "women_weight = 314/891\n",
    "weighted_gini_impurity_sex_split = (gini_impurity_men * men_weight) + (gini_impurity_women * women_weight)\n",
    "\n",
    "sex_gini_decrease = weighted_gini_impurity_sex_split - gini_impurity_starting_node\n",
    "sex_gini_decrease\n",
    "\n"
   ]
  },
  {
   "cell_type": "code",
   "execution_count": 64,
   "id": "155545e1-11a1-4c2d-a696-147a966041c5",
   "metadata": {},
   "outputs": [
    {
     "data": {
      "text/plain": [
       "0.2642532988637767"
      ]
     },
     "execution_count": 64,
     "metadata": {},
     "output_type": "execute_result"
    }
   ],
   "source": [
    "# Gini Impurity decrease of node for observations with Title == 1 == Mr\n",
    "gini_impurity_title_1 = get_gini_impurity(81, 517)\n",
    "gini_impurity_title_1"
   ]
  },
  {
   "cell_type": "code",
   "execution_count": 65,
   "id": "d8b16486-4107-4acf-a68a-623c33181aee",
   "metadata": {},
   "outputs": [
    {
     "data": {
      "text/plain": [
       "0.42170207898424317"
      ]
     },
     "execution_count": 65,
     "metadata": {},
     "output_type": "execute_result"
    }
   ],
   "source": [
    "# Gini Impurity decrease if node splited for observations with Title != 1 != Mr\n",
    "gini_impurity_title_others = get_gini_impurity(261, 374)\n",
    "gini_impurity_title_others"
   ]
  },
  {
   "cell_type": "code",
   "execution_count": 66,
   "id": "c5c5cf5b-10f4-4b9a-90af-9c70a80e97f8",
   "metadata": {},
   "outputs": [
    {
     "data": {
      "text/plain": [
       "-0.1426700475890753"
      ]
     },
     "execution_count": 66,
     "metadata": {},
     "output_type": "execute_result"
    }
   ],
   "source": [
    "# Gini Impurity decrease if node splited for observations with Title == 1 == Mr\n",
    "title_1_weight = 517/891\n",
    "title_others_weight = 374/891\n",
    "weighted_gini_impurity_title_split = (gini_impurity_title_1 * title_1_weight) + (gini_impurity_title_others * title_others_weight)\n",
    "\n",
    "title_gini_decrease = weighted_gini_impurity_title_split - gini_impurity_starting_node\n",
    "title_gini_decrease"
   ]
  },
  {
   "cell_type": "code",
   "execution_count": 67,
   "id": "f4a30044-8f1f-4053-8a0e-e2d61b32104d",
   "metadata": {},
   "outputs": [],
   "source": [
    "# the Title feature is slightly better at reducing the Gini Impurity than Sex"
   ]
  },
  {
   "cell_type": "code",
   "execution_count": 68,
   "id": "56109b61-94ff-4fe3-b6ee-ef1788589678",
   "metadata": {},
   "outputs": [],
   "source": [
    "#Finding best tree depth with the help of Cross Validation"
   ]
  },
  {
   "cell_type": "code",
   "execution_count": 69,
   "id": "a8639d54-b9b8-47f2-80e9-2eee46f13e9a",
   "metadata": {},
   "outputs": [
    {
     "name": "stdout",
     "output_type": "stream",
     "text": [
      "Current max depth:  1 \n",
      "\n",
      "\n",
      "\n",
      "Current max depth:  2 \n",
      "\n",
      "\n",
      "\n",
      "Current max depth:  3 \n",
      "\n",
      "\n",
      "\n",
      "Current max depth:  4 \n",
      "\n",
      "\n",
      "\n",
      "Current max depth:  5 \n",
      "\n",
      "\n",
      "\n",
      "Current max depth:  6 \n",
      "\n",
      "\n",
      "\n",
      "Current max depth:  7 \n",
      "\n",
      "\n",
      "\n",
      "Current max depth:  8 \n",
      "\n",
      "\n",
      "\n",
      "Current max depth:  9 \n",
      "\n",
      "\n",
      "\n",
      "Current max depth:  10 \n",
      "\n",
      "\n",
      "\n",
      "range(1, 11)\n",
      "[0.7822846441947565, 0.7991885143570537, 0.8271535580524343, 0.8181647940074906, 0.8182022471910113, 0.8115106117353308, 0.8080898876404493, 0.8159675405742821, 0.8137203495630463, 0.8126092384519351]\n",
      " Max Depth  Average Accuracy\n",
      "         1          0.782285\n",
      "         2          0.799189\n",
      "         3          0.827154\n",
      "         4          0.818165\n",
      "         5          0.818202\n",
      "         6          0.811511\n",
      "         7          0.808090\n",
      "         8          0.815968\n",
      "         9          0.813720\n",
      "        10          0.812609\n"
     ]
    }
   ],
   "source": [
    "#Testing max_depths from 1 to max attributes\n",
    "cv = KFold(n_splits=10)            # Desired number of Cross Validation folds\n",
    "accuracies = list()\n",
    "max_attributes = len(list(test))\n",
    "depth_range = range(1, max_attributes + 1)\n",
    "\n",
    "# Uncomment prints for details about each Cross Validation pass\n",
    "for depth in depth_range:\n",
    "    fold_accuracy = []\n",
    "    tree_model = tree.DecisionTreeClassifier(max_depth = depth)\n",
    "    print(\"Current max depth: \", depth, \"\\n\")\n",
    "    for train_fold, valid_fold in cv.split(train):\n",
    "        f_train = train.loc[train_fold] # Extract train data with cv indices\n",
    "        f_valid = train.loc[valid_fold] # Extract valid data with cv indices\n",
    "        model = tree_model.fit(X = f_train.drop(['Survived'], axis=1), \n",
    "                               y = f_train[\"Survived\"]) # We fit the model with the fold train data\n",
    "\n",
    "        valid_acc = model.score(X = f_valid.drop(['Survived'], axis=1), \n",
    "                                y = f_valid[\"Survived\"])# We calculate accuracy with the fold validation data\n",
    "        fold_accuracy.append(valid_acc)\n",
    "\n",
    "    avg = sum(fold_accuracy)/len(fold_accuracy)\n",
    "    accuracies.append(avg)\n",
    "    #print(\"Accuracy per fold: \", fold_accuracy, \"\\n\")\n",
    "    #print(\"Average accuracy: \", avg)\n",
    "    print(\"\\n\")\n",
    "\n",
    "# Just to show results conveniently\n",
    "print( depth_range)\n",
    "print (accuracies)\n",
    "# Just to show results conveniently\n",
    "df = pd.DataFrame({\"Max Depth\": depth_range, \"Average Accuracy\": accuracies})\n",
    "df = df[[\"Max Depth\", \"Average Accuracy\"]]\n",
    "print(df.to_string(index=False))\n"
   ]
  },
  {
   "cell_type": "code",
   "execution_count": 70,
   "id": "e9f9f39f-4328-47db-acd5-14df88aea116",
   "metadata": {},
   "outputs": [],
   "source": [
    "\n",
    "\n",
    "# Create Numpy arrays of train, test and target (Survived) dataframes to feed into our models\n",
    "y_train = train['Survived']\n",
    "x_train = train.drop(['Survived'], axis=1).values \n",
    "x_test = test.values\n",
    "\n",
    "# Create Decision Tree with max_depth = 3\n",
    "decision_tree = tree.DecisionTreeClassifier(max_depth = 3)\n",
    "decision_tree.fit(x_train, y_train)\n",
    "\n",
    "# Predicting results for test dataset\n",
    "y_pred = decision_tree.predict(x_test)\n",
    "submission = pd.DataFrame({\n",
    "        \"PassengerId\": PassengerId,\n",
    "        \"Survived\": y_pred\n",
    "    })\n",
    "submission.to_csv('submission.csv', index=False)\n",
    "\n",
    "# Export our trained model as a .dot file\n",
    "with open(\"tree1.dot\", 'w') as f:\n",
    "     f = tree.export_graphviz(decision_tree,\n",
    "                              out_file=f,\n",
    "                              max_depth = 3,\n",
    "                              impurity = True,\n",
    "                              feature_names = list(train.drop(['Survived'], axis=1)),\n",
    "                              class_names = ['Died', 'Survived'],\n",
    "                              rounded = True,\n",
    "                              filled= True )\n",
    "        \n",
    "#check kaggle links for more"
   ]
  },
  {
   "cell_type": "code",
   "execution_count": 71,
   "id": "5ebf9e8f-144d-45d2-9ba5-1f363bf54d87",
   "metadata": {},
   "outputs": [
    {
     "data": {
      "text/plain": [
       "82.38"
      ]
     },
     "execution_count": 71,
     "metadata": {},
     "output_type": "execute_result"
    }
   ],
   "source": [
    "acc_decision_tree = round(decision_tree.score(x_train, y_train) * 100, 2)\n",
    "acc_decision_tree"
   ]
  },
  {
   "cell_type": "code",
   "execution_count": 72,
   "id": "3f6c23e5-6378-4b6e-ba09-f69dde854a76",
   "metadata": {},
   "outputs": [],
   "source": [
    "#various -> https://www.kaggle.com/code/zlatankr/titanic-random-forest-82-78"
   ]
  },
  {
   "cell_type": "code",
   "execution_count": 73,
   "id": "043a0f00-bc19-47b7-a704-3a264b54d37c",
   "metadata": {},
   "outputs": [
    {
     "name": "stderr",
     "output_type": "stream",
     "text": [
      "C:\\Users\\gianp\\AppData\\Local\\Temp\\ipykernel_19516\\3167467089.py:2: FutureWarning: The default of observed=False is deprecated and will be changed to True in a future version of pandas. Pass observed=False to retain current behavior or observed=True to adopt the future default and silence this warning.\n",
      "  original_train2['Survived'].groupby(pd.qcut(original_train2['Age'],age_size)).mean()\n"
     ]
    },
    {
     "data": {
      "text/plain": [
       "Age\n",
       "(0.419, 14.0]    0.584416\n",
       "(14.0, 19.0]     0.390805\n",
       "(19.0, 22.0]     0.283582\n",
       "(22.0, 25.0]     0.371429\n",
       "(25.0, 28.0]     0.393443\n",
       "(28.0, 31.8]     0.393939\n",
       "(31.8, 36.0]     0.483516\n",
       "(36.0, 41.0]     0.358491\n",
       "(41.0, 50.0]     0.397436\n",
       "(50.0, 80.0]     0.343750\n",
       "Name: Survived, dtype: float64"
      ]
     },
     "execution_count": 73,
     "metadata": {},
     "output_type": "execute_result"
    }
   ],
   "source": [
    "age_size=10\n",
    "original_train2['Survived'].groupby(pd.qcut(original_train2['Age'],age_size)).mean()"
   ]
  },
  {
   "cell_type": "code",
   "execution_count": 74,
   "id": "20bb8034-bed7-414b-8e9f-c0a00ac62c5a",
   "metadata": {},
   "outputs": [
    {
     "data": {
      "text/plain": [
       "Fare\n",
       "(-0.001, 8.662]    308\n",
       "(26.0, 512.329]    295\n",
       "(8.662, 26.0]      288\n",
       "Name: count, dtype: int64"
      ]
     },
     "execution_count": 74,
     "metadata": {},
     "output_type": "execute_result"
    }
   ],
   "source": [
    "pd.qcut(original_train2['Fare'], 3).value_counts()"
   ]
  },
  {
   "cell_type": "code",
   "execution_count": 75,
   "id": "89bf6ed2-2697-4e3b-b24e-9e37b05bb129",
   "metadata": {},
   "outputs": [
    {
     "name": "stderr",
     "output_type": "stream",
     "text": [
      "C:\\Users\\gianp\\AppData\\Local\\Temp\\ipykernel_19516\\2583103257.py:2: FutureWarning: The default of observed=False is deprecated and will be changed to True in a future version of pandas. Pass observed=False to retain current behavior or observed=True to adopt the future default and silence this warning.\n",
      "  original_train2['Survived'].groupby(pd.qcut(original_train2['Fare'], fare_size)).mean()\n"
     ]
    },
    {
     "data": {
      "text/plain": [
       "Fare\n",
       "(-0.001, 8.662]    0.198052\n",
       "(8.662, 26.0]      0.402778\n",
       "(26.0, 512.329]    0.559322\n",
       "Name: Survived, dtype: float64"
      ]
     },
     "execution_count": 75,
     "metadata": {},
     "output_type": "execute_result"
    }
   ],
   "source": [
    "fare_size=3\n",
    "original_train2['Survived'].groupby(pd.qcut(original_train2['Fare'], fare_size)).mean()\n"
   ]
  },
  {
   "cell_type": "code",
   "execution_count": 76,
   "id": "f60080d4-a61e-457d-a8c4-ffdaf932f714",
   "metadata": {},
   "outputs": [],
   "source": [
    "#looking at the relationship between Class and Fare, we do indeed see a clear relationship."
   ]
  },
  {
   "cell_type": "code",
   "execution_count": 77,
   "id": "a26f74c3-2466-481c-981e-75dbbfa55386",
   "metadata": {},
   "outputs": [
    {
     "data": {
      "text/html": [
       "<div>\n",
       "<style scoped>\n",
       "    .dataframe tbody tr th:only-of-type {\n",
       "        vertical-align: middle;\n",
       "    }\n",
       "\n",
       "    .dataframe tbody tr th {\n",
       "        vertical-align: top;\n",
       "    }\n",
       "\n",
       "    .dataframe thead th {\n",
       "        text-align: right;\n",
       "    }\n",
       "</style>\n",
       "<table border=\"1\" class=\"dataframe\">\n",
       "  <thead>\n",
       "    <tr style=\"text-align: right;\">\n",
       "      <th>Pclass</th>\n",
       "      <th>1</th>\n",
       "      <th>2</th>\n",
       "      <th>3</th>\n",
       "    </tr>\n",
       "    <tr>\n",
       "      <th>Fare</th>\n",
       "      <th></th>\n",
       "      <th></th>\n",
       "      <th></th>\n",
       "    </tr>\n",
       "  </thead>\n",
       "  <tbody>\n",
       "    <tr>\n",
       "      <th>(-0.001, 7.854]</th>\n",
       "      <td>6</td>\n",
       "      <td>6</td>\n",
       "      <td>167</td>\n",
       "    </tr>\n",
       "    <tr>\n",
       "      <th>(7.854, 10.5]</th>\n",
       "      <td>0</td>\n",
       "      <td>24</td>\n",
       "      <td>160</td>\n",
       "    </tr>\n",
       "    <tr>\n",
       "      <th>(10.5, 21.679]</th>\n",
       "      <td>0</td>\n",
       "      <td>80</td>\n",
       "      <td>92</td>\n",
       "    </tr>\n",
       "    <tr>\n",
       "      <th>(21.679, 39.688]</th>\n",
       "      <td>64</td>\n",
       "      <td>64</td>\n",
       "      <td>52</td>\n",
       "    </tr>\n",
       "    <tr>\n",
       "      <th>(39.688, 512.329]</th>\n",
       "      <td>146</td>\n",
       "      <td>10</td>\n",
       "      <td>20</td>\n",
       "    </tr>\n",
       "  </tbody>\n",
       "</table>\n",
       "</div>"
      ],
      "text/plain": [
       "Pclass               1   2    3\n",
       "Fare                           \n",
       "(-0.001, 7.854]      6   6  167\n",
       "(7.854, 10.5]        0  24  160\n",
       "(10.5, 21.679]       0  80   92\n",
       "(21.679, 39.688]    64  64   52\n",
       "(39.688, 512.329]  146  10   20"
      ]
     },
     "execution_count": 77,
     "metadata": {},
     "output_type": "execute_result"
    }
   ],
   "source": [
    "pd.crosstab(pd.qcut(original_train2['Fare'], 5), columns=original_train2['Pclass'])"
   ]
  },
  {
   "cell_type": "code",
   "execution_count": 78,
   "id": "09c83913-8b41-44f8-8cb5-6f883d7e9f21",
   "metadata": {},
   "outputs": [
    {
     "data": {
      "text/html": [
       "<div>\n",
       "<style scoped>\n",
       "    .dataframe tbody tr th:only-of-type {\n",
       "        vertical-align: middle;\n",
       "    }\n",
       "\n",
       "    .dataframe tbody tr th {\n",
       "        vertical-align: top;\n",
       "    }\n",
       "\n",
       "    .dataframe thead th {\n",
       "        text-align: right;\n",
       "    }\n",
       "</style>\n",
       "<table border=\"1\" class=\"dataframe\">\n",
       "  <thead>\n",
       "    <tr style=\"text-align: right;\">\n",
       "      <th></th>\n",
       "      <th>Survived</th>\n",
       "      <th>Pclass</th>\n",
       "      <th>Sex</th>\n",
       "      <th>Age</th>\n",
       "      <th>Parch</th>\n",
       "      <th>Fare</th>\n",
       "      <th>Embarked</th>\n",
       "      <th>Has_Cabin</th>\n",
       "      <th>FamilySize</th>\n",
       "      <th>IsAlone</th>\n",
       "      <th>Title</th>\n",
       "    </tr>\n",
       "  </thead>\n",
       "  <tbody>\n",
       "    <tr>\n",
       "      <th>0</th>\n",
       "      <td>0</td>\n",
       "      <td>3</td>\n",
       "      <td>1</td>\n",
       "      <td>1</td>\n",
       "      <td>0</td>\n",
       "      <td>0</td>\n",
       "      <td>0</td>\n",
       "      <td>0</td>\n",
       "      <td>2</td>\n",
       "      <td>0</td>\n",
       "      <td>1</td>\n",
       "    </tr>\n",
       "    <tr>\n",
       "      <th>1</th>\n",
       "      <td>1</td>\n",
       "      <td>1</td>\n",
       "      <td>0</td>\n",
       "      <td>2</td>\n",
       "      <td>0</td>\n",
       "      <td>3</td>\n",
       "      <td>1</td>\n",
       "      <td>1</td>\n",
       "      <td>2</td>\n",
       "      <td>0</td>\n",
       "      <td>3</td>\n",
       "    </tr>\n",
       "    <tr>\n",
       "      <th>2</th>\n",
       "      <td>1</td>\n",
       "      <td>3</td>\n",
       "      <td>0</td>\n",
       "      <td>1</td>\n",
       "      <td>0</td>\n",
       "      <td>1</td>\n",
       "      <td>0</td>\n",
       "      <td>0</td>\n",
       "      <td>1</td>\n",
       "      <td>1</td>\n",
       "      <td>4</td>\n",
       "    </tr>\n",
       "    <tr>\n",
       "      <th>3</th>\n",
       "      <td>1</td>\n",
       "      <td>1</td>\n",
       "      <td>0</td>\n",
       "      <td>2</td>\n",
       "      <td>0</td>\n",
       "      <td>3</td>\n",
       "      <td>0</td>\n",
       "      <td>1</td>\n",
       "      <td>2</td>\n",
       "      <td>0</td>\n",
       "      <td>3</td>\n",
       "    </tr>\n",
       "    <tr>\n",
       "      <th>4</th>\n",
       "      <td>0</td>\n",
       "      <td>3</td>\n",
       "      <td>1</td>\n",
       "      <td>2</td>\n",
       "      <td>0</td>\n",
       "      <td>1</td>\n",
       "      <td>0</td>\n",
       "      <td>0</td>\n",
       "      <td>1</td>\n",
       "      <td>1</td>\n",
       "      <td>1</td>\n",
       "    </tr>\n",
       "  </tbody>\n",
       "</table>\n",
       "</div>"
      ],
      "text/plain": [
       "   Survived  Pclass  Sex  Age  Parch  Fare  Embarked  Has_Cabin  FamilySize  \\\n",
       "0         0       3    1    1      0     0         0          0           2   \n",
       "1         1       1    0    2      0     3         1          1           2   \n",
       "2         1       3    0    1      0     1         0          0           1   \n",
       "3         1       1    0    2      0     3         0          1           2   \n",
       "4         0       3    1    2      0     1         0          0           1   \n",
       "\n",
       "   IsAlone  Title  \n",
       "0        0      1  \n",
       "1        0      3  \n",
       "2        1      4  \n",
       "3        0      3  \n",
       "4        1      1  "
      ]
     },
     "execution_count": 78,
     "metadata": {},
     "output_type": "execute_result"
    }
   ],
   "source": [
    "train.head()\n"
   ]
  },
  {
   "cell_type": "code",
   "execution_count": 79,
   "id": "a25d18cc-59f4-45aa-8689-84721f6d209a",
   "metadata": {},
   "outputs": [
    {
     "name": "stdout",
     "output_type": "stream",
     "text": [
      "Features (train.iloc[:, 1:]):\n",
      "      Pclass  Sex  Age  Parch  Fare  Embarked  Has_Cabin  FamilySize  IsAlone  \\\n",
      "0         3    1    1      0     0         0          0           2        0   \n",
      "1         1    0    2      0     3         1          1           2        0   \n",
      "2         3    0    1      0     1         0          0           1        1   \n",
      "3         1    0    2      0     3         0          1           2        0   \n",
      "4         3    1    2      0     1         0          0           1        1   \n",
      "..      ...  ...  ...    ...   ...       ...        ...         ...      ...   \n",
      "886       2    1    1      0     1         0          0           1        1   \n",
      "887       1    0    1      0     2         0          1           1        1   \n",
      "888       3    0    2      2     2         0          0           4        0   \n",
      "889       1    1    1      0     2         1          1           1        1   \n",
      "890       3    1    1      0     0         2          0           1        1   \n",
      "\n",
      "     Title  \n",
      "0        1  \n",
      "1        3  \n",
      "2        4  \n",
      "3        3  \n",
      "4        1  \n",
      "..     ...  \n",
      "886      5  \n",
      "887      4  \n",
      "888      4  \n",
      "889      1  \n",
      "890      1  \n",
      "\n",
      "[891 rows x 10 columns]\n",
      "\n",
      "Target Variable (train.iloc[:, 0]):\n",
      " 0      0\n",
      "1      1\n",
      "2      1\n",
      "3      1\n",
      "4      0\n",
      "      ..\n",
      "886    0\n",
      "887    1\n",
      "888    0\n",
      "889    1\n",
      "890    0\n",
      "Name: Survived, Length: 891, dtype: int64\n"
     ]
    }
   ],
   "source": [
    "print(\"Features (train.iloc[:, 1:]):\\n\", train.iloc[:, 1:])\n",
    "print(\"\\nTarget Variable (train.iloc[:, 0]):\\n\", train.iloc[:, 0])"
   ]
  },
  {
   "cell_type": "code",
   "execution_count": 107,
   "id": "09e29491-aa38-46ed-944e-6a5e1e6b0726",
   "metadata": {},
   "outputs": [
    {
     "data": {
      "image/png": "[encoded data removed]",
      "text/plain": [
       "<Figure size 2000x500 with 3 Axes>"
      ]
     },
     "metadata": {},
     "output_type": "display_data"
    }
   ],
   "source": [
    "######################################################\n",
    "#RANDOM FOREST\n",
    "######################################################\n",
    "\n",
    "#https://github.com/Charlie5DH/Kaggle_Competitions/blob/master/Titanic_Machine_Learning_from_Disaster/titanic-disaster-cr.ipynb\n",
    "\n",
    "\n",
    "from sklearn.model_selection import train_test_split\n",
    "train_data = pd.read_csv('train.csv')\n",
    "test_data = pd.read_csv('test.csv')\n",
    "\n",
    "\n",
    "fig, axx = plt.subplots(1, 3, figsize=(20,5))\n",
    "axx[0].set_title('Amounth of Siblins/Spouses')\n",
    "sns.countplot(x='SibSp', data=train_data, ax=axx[0])\n",
    "axx[1].set_title('Amounth of parents/children')\n",
    "sns.countplot(x='Parch', data=train_data, ax=axx[1])\n",
    "axx[2].set_title('Distribution of Classes')\n",
    "sns.countplot(x='Pclass', data=train_data, ax=axx[2])\n",
    "plt.tight_layout()\n",
    "\n"
   ]
  },
  {
   "cell_type": "code",
   "execution_count": 108,
   "id": "115b8fde-a91e-43fd-864c-6ec24c3de83f",
   "metadata": {},
   "outputs": [],
   "source": [
    "def create_alone_feature(SibSp_Parch):\n",
    "    if (SibSp_Parch[0]+SibSp_Parch[1])==0:\n",
    "        return 1\n",
    "    else:\n",
    "        return 0"
   ]
  },
  {
   "cell_type": "code",
   "execution_count": 109,
   "id": "d0db30d8-3d1d-49d5-9f12-8df6cd4bb063",
   "metadata": {},
   "outputs": [
    {
     "name": "stderr",
     "output_type": "stream",
     "text": [
      "C:\\Users\\gianp\\AppData\\Local\\Temp\\ipykernel_19516\\665999452.py:2: FutureWarning: Series.__getitem__ treating keys as positions is deprecated. In a future version, integer keys will always be treated as labels (consistent with DataFrame behavior). To access a value by position, use `ser.iloc[pos]`\n",
      "  if (SibSp_Parch[0]+SibSp_Parch[1])==0:\n",
      "C:\\Users\\gianp\\AppData\\Local\\Temp\\ipykernel_19516\\665999452.py:2: FutureWarning: Series.__getitem__ treating keys as positions is deprecated. In a future version, integer keys will always be treated as labels (consistent with DataFrame behavior). To access a value by position, use `ser.iloc[pos]`\n",
      "  if (SibSp_Parch[0]+SibSp_Parch[1])==0:\n"
     ]
    }
   ],
   "source": [
    "train_data['Alone'] = train_data[['SibSp','Parch']].apply(create_alone_feature, axis=1)\n",
    "train_data['Familiars'] = 1 + train_data['SibSp'] + train_data['Parch']\n",
    "\n",
    "test_data['Alone'] = test_data[['SibSp','Parch']].apply(create_alone_feature, axis=1)\n",
    "test_data['Familiars'] = 1 + test_data['SibSp'] + test_data['Parch']"
   ]
  },
  {
   "cell_type": "code",
   "execution_count": 110,
   "id": "2b185b37-adb7-4251-96bc-f9a487f77e3e",
   "metadata": {},
   "outputs": [
    {
     "data": {
      "image/png": "[encoded data removed]",
      "text/plain": [
       "<Figure size 2000x1000 with 6 Axes>"
      ]
     },
     "metadata": {},
     "output_type": "display_data"
    }
   ],
   "source": [
    "fig, axx = plt.subplots(2, 3, figsize=(20,10))\n",
    "axx[0,0].set_title('Survivors')\n",
    "sns.countplot(x='Survived', data=train_data, ax=axx[0,0])\n",
    "axx[0,1].set_title('Survivors by Sex')\n",
    "sns.countplot(x='Survived', hue='Sex', data=train_data, ax=axx[0,1])\n",
    "#xx[0,2].set_title('Survivors by Pclass')\n",
    "#sns.countplot(x='Survived', hue='Pclass', data=train_data, ax=axx[0,2])\n",
    "\n",
    "plt.tight_layout()"
   ]
  },
  {
   "cell_type": "code",
   "execution_count": 111,
   "id": "0769e9a8-4e5e-467e-bdcf-0ca5f577c477",
   "metadata": {},
   "outputs": [
    {
     "name": "stdout",
     "output_type": "stream",
     "text": [
      "     Pclass  Sex  Age  Parch  Fare  Embarked  Has_Cabin  FamilySize  IsAlone  \\\n",
      "452       1    1    1      0     2         1          1           1        1   \n",
      "303       2    0    2      0     1         2          1           1        1   \n",
      "428       3    1    1      0     0         2          0           1        1   \n",
      "468       3    1    1      0     0         2          0           1        1   \n",
      "530       2    0    0      1     2         0          0           3        0   \n",
      "..      ...  ...  ...    ...   ...       ...        ...         ...      ...   \n",
      "575       3    1    1      0     2         0          0           1        1   \n",
      "336       1    1    1      0     3         0          1           2        0   \n",
      "12        3    1    1      0     1         0          0           1        1   \n",
      "761       3    1    2      0     0         0          0           1        1   \n",
      "820       1    0    3      1     3         0          1           3        0   \n",
      "\n",
      "     Title  \n",
      "452      1  \n",
      "303      4  \n",
      "428      1  \n",
      "468      1  \n",
      "530      4  \n",
      "..     ...  \n",
      "575      1  \n",
      "336      1  \n",
      "12       1  \n",
      "761      1  \n",
      "820      3  \n",
      "\n",
      "[712 rows x 10 columns]\n"
     ]
    }
   ],
   "source": [
    "LABEL = 'Survived'\n",
    "y = train[LABEL]\n",
    "train_data = train.drop(LABEL, axis=1)\n",
    "\n",
    "X_train, X_test, y_train, y_test = train_test_split(train_data, y, test_size=0.2)\n",
    "print(X_train)"
   ]
  },
  {
   "cell_type": "code",
   "execution_count": 112,
   "id": "674f66e1-167b-4c59-bdd4-8ceff8eda5eb",
   "metadata": {},
   "outputs": [
    {
     "name": "stderr",
     "output_type": "stream",
     "text": [
      "C:\\Users\\gianp\\anaconda3\\envs\\tf\\lib\\site-packages\\sklearn\\ensemble\\_forest.py:427: FutureWarning: `max_features='auto'` has been deprecated in 1.1 and will be removed in 1.3. To keep the past behaviour, explicitly set `max_features='sqrt'` or remove this parameter as it is also the default value for RandomForestClassifiers and ExtraTreesClassifiers.\n",
      "  warn(\n"
     ]
    },
    {
     "name": "stdout",
     "output_type": "stream",
     "text": [
      "0.8188\n"
     ]
    }
   ],
   "source": [
    "\n",
    "\n",
    "from sklearn.ensemble import RandomForestClassifier\n",
    "\n",
    "rf = RandomForestClassifier(criterion='gini', \n",
    "                             n_estimators=700,\n",
    "                             min_samples_split=10,\n",
    "                             min_samples_leaf=1,\n",
    "                             max_features='auto',\n",
    "                             oob_score=True,\n",
    "                             random_state=1,\n",
    "                             n_jobs=-1)\n",
    "\n",
    "\n",
    "#rf.fit(train.iloc[:, 1:], train.iloc[:, 0])\n",
    "rf.fit(X_train, y_train)\n",
    "print(\"%.4f\" % rf.oob_score_)\n",
    "\n"
   ]
  },
  {
   "cell_type": "code",
   "execution_count": 113,
   "id": "a6723964-57f4-4c25-ac1c-7b9ca49ebcd3",
   "metadata": {},
   "outputs": [
    {
     "data": {
      "image/png": "[encoded data removed]",
      "text/plain": [
       "<Figure size 1000x600 with 1 Axes>"
      ]
     },
     "metadata": {},
     "output_type": "display_data"
    }
   ],
   "source": [
    "feature_imp = pd.Series(rf.feature_importances_, index=X_train.columns).sort_values(ascending=False)\n",
    "\n",
    "#print(\"Accuracy: {}\".format(metrics.accuracy_score(y_test, y_pred)))\n",
    "\n",
    "plt.figure(figsize=(10,6))\n",
    "sns.barplot(x=feature_imp, y=feature_imp.index)\n",
    "# Add labels to your graph\n",
    "plt.xlabel('Feature Importance Score')\n",
    "plt.ylabel('Features')\n",
    "plt.title(\"Visualizing Important Features\")\n",
    "plt.tight_layout()"
   ]
  },
  {
   "cell_type": "code",
   "execution_count": 114,
   "id": "87e2bc1c-6f1e-4712-9276-83d02b20b133",
   "metadata": {},
   "outputs": [
    {
     "name": "stdout",
     "output_type": "stream",
     "text": [
      "Accuracy: 0.8268156424581006\n",
      "              precision    recall  f1-score   support\n",
      "\n",
      "           0       0.82      0.93      0.87       110\n",
      "           1       0.85      0.67      0.75        69\n",
      "\n",
      "    accuracy                           0.83       179\n",
      "   macro avg       0.83      0.80      0.81       179\n",
      "weighted avg       0.83      0.83      0.82       179\n",
      "\n"
     ]
    }
   ],
   "source": [
    "from sklearn import metrics\n",
    "y_pred = rf.predict(X_test)\n",
    "\n",
    "print(\"Accuracy: {}\".format(metrics.accuracy_score(y_test, y_pred)))\n",
    "print(classification_report(y_test,y_pred))"
   ]
  },
  {
   "cell_type": "code",
   "execution_count": 115,
   "id": "ce37646c-0349-4efb-b88e-cc50a6f7c525",
   "metadata": {},
   "outputs": [
    {
     "name": "stdout",
     "output_type": "stream",
     "text": [
      "   Accuracy: 0.776536312849162\n",
      "              precision    recall  f1-score   support\n",
      "\n",
      "           0       0.77      0.89      0.83       108\n",
      "           1       0.78      0.61      0.68        71\n",
      "\n",
      "    accuracy                           0.78       179\n",
      "   macro avg       0.78      0.75      0.76       179\n",
      "weighted avg       0.78      0.78      0.77       179\n",
      "\n"
     ]
    }
   ],
   "source": [
    "from sklearn.metrics import classification_report\n",
    "from sklearn.metrics import confusion_matrix\n",
    "\n",
    "# Removing less important features\n",
    "#see this noteook https://github.com/Charlie5DH/Kaggle_Competitions/blob/master/Titanic_Machine_Learning_from_Disaster/titanic-disaster-cr.ipynb\n",
    "#precision does not improve here. i made some mistakes\n",
    "\n",
    "new_train = train_data.drop(['IsAlone','Parch','Embarked'], axis=1)\n",
    "new_test = train_data.drop(['IsAlone','Parch','Embarked'], axis=1)\n",
    "\n",
    "X_train, X_test, y_train, y_test = train_test_split(new_train, y, test_size=0.2)\n",
    "clf = RandomForestClassifier(n_estimators=100)\n",
    "\n",
    "#Train the model using the training sets y_pred=clf.predict(X_test)\n",
    "clf.fit(X_train, y_train)\n",
    "\n",
    "y_pred = clf.predict(X_test)\n",
    "\n",
    "print(\"   Accuracy: {}\".format(metrics.accuracy_score(y_test, y_pred)))\n",
    "\n",
    "print(classification_report(y_test,y_pred))"
   ]
  },
  {
   "cell_type": "code",
   "execution_count": 116,
   "id": "64be950b-970c-459c-9648-1472bbdef35c",
   "metadata": {},
   "outputs": [
    {
     "data": {
      "image/png": "[encoded data removed]",
      "text/plain": [
       "<Figure size 800x500 with 2 Axes>"
      ]
     },
     "metadata": {},
     "output_type": "display_data"
    }
   ],
   "source": [
    "conf_matrix = confusion_matrix(y_test, y_pred)\n",
    "\n",
    "plt.figure(figsize=(8,5))\n",
    "sns.heatmap(conf_matrix, annot=True)\n",
    "plt.title('Confusion Matrix')\n",
    "plt.tight_layout()"
   ]
  },
  {
   "cell_type": "code",
   "execution_count": 117,
   "id": "1778be9f-0a70-4502-8a92-93883f59f2f5",
   "metadata": {},
   "outputs": [
    {
     "data": {
      "text/html": [
       "<div>\n",
       "<style scoped>\n",
       "    .dataframe tbody tr th:only-of-type {\n",
       "        vertical-align: middle;\n",
       "    }\n",
       "\n",
       "    .dataframe tbody tr th {\n",
       "        vertical-align: top;\n",
       "    }\n",
       "\n",
       "    .dataframe thead th {\n",
       "        text-align: right;\n",
       "    }\n",
       "</style>\n",
       "<table border=\"1\" class=\"dataframe\">\n",
       "  <thead>\n",
       "    <tr style=\"text-align: right;\">\n",
       "      <th></th>\n",
       "      <th>PassengerId</th>\n",
       "      <th>Pclass</th>\n",
       "      <th>Name</th>\n",
       "      <th>Sex</th>\n",
       "      <th>Age</th>\n",
       "      <th>SibSp</th>\n",
       "      <th>Parch</th>\n",
       "      <th>Ticket</th>\n",
       "      <th>Fare</th>\n",
       "      <th>Cabin</th>\n",
       "      <th>Embarked</th>\n",
       "      <th>Alone</th>\n",
       "      <th>Familiars</th>\n",
       "      <th>Survival_Predictions</th>\n",
       "    </tr>\n",
       "  </thead>\n",
       "  <tbody>\n",
       "    <tr>\n",
       "      <th>0</th>\n",
       "      <td>892</td>\n",
       "      <td>3</td>\n",
       "      <td>Kelly, Mr. James</td>\n",
       "      <td>male</td>\n",
       "      <td>34.5</td>\n",
       "      <td>0</td>\n",
       "      <td>0</td>\n",
       "      <td>330911</td>\n",
       "      <td>7.8292</td>\n",
       "      <td>NaN</td>\n",
       "      <td>Q</td>\n",
       "      <td>1</td>\n",
       "      <td>1</td>\n",
       "      <td>0</td>\n",
       "    </tr>\n",
       "    <tr>\n",
       "      <th>1</th>\n",
       "      <td>893</td>\n",
       "      <td>3</td>\n",
       "      <td>Wilkes, Mrs. James (Ellen Needs)</td>\n",
       "      <td>female</td>\n",
       "      <td>47.0</td>\n",
       "      <td>1</td>\n",
       "      <td>0</td>\n",
       "      <td>363272</td>\n",
       "      <td>7.0000</td>\n",
       "      <td>NaN</td>\n",
       "      <td>S</td>\n",
       "      <td>0</td>\n",
       "      <td>2</td>\n",
       "      <td>1</td>\n",
       "    </tr>\n",
       "    <tr>\n",
       "      <th>2</th>\n",
       "      <td>894</td>\n",
       "      <td>2</td>\n",
       "      <td>Myles, Mr. Thomas Francis</td>\n",
       "      <td>male</td>\n",
       "      <td>62.0</td>\n",
       "      <td>0</td>\n",
       "      <td>0</td>\n",
       "      <td>240276</td>\n",
       "      <td>9.6875</td>\n",
       "      <td>NaN</td>\n",
       "      <td>Q</td>\n",
       "      <td>1</td>\n",
       "      <td>1</td>\n",
       "      <td>0</td>\n",
       "    </tr>\n",
       "    <tr>\n",
       "      <th>3</th>\n",
       "      <td>895</td>\n",
       "      <td>3</td>\n",
       "      <td>Wirz, Mr. Albert</td>\n",
       "      <td>male</td>\n",
       "      <td>27.0</td>\n",
       "      <td>0</td>\n",
       "      <td>0</td>\n",
       "      <td>315154</td>\n",
       "      <td>8.6625</td>\n",
       "      <td>NaN</td>\n",
       "      <td>S</td>\n",
       "      <td>1</td>\n",
       "      <td>1</td>\n",
       "      <td>1</td>\n",
       "    </tr>\n",
       "    <tr>\n",
       "      <th>4</th>\n",
       "      <td>896</td>\n",
       "      <td>3</td>\n",
       "      <td>Hirvonen, Mrs. Alexander (Helga E Lindqvist)</td>\n",
       "      <td>female</td>\n",
       "      <td>22.0</td>\n",
       "      <td>1</td>\n",
       "      <td>1</td>\n",
       "      <td>3101298</td>\n",
       "      <td>12.2875</td>\n",
       "      <td>NaN</td>\n",
       "      <td>S</td>\n",
       "      <td>0</td>\n",
       "      <td>3</td>\n",
       "      <td>0</td>\n",
       "    </tr>\n",
       "  </tbody>\n",
       "</table>\n",
       "</div>"
      ],
      "text/plain": [
       "   PassengerId  Pclass                                          Name     Sex  \\\n",
       "0          892       3                              Kelly, Mr. James    male   \n",
       "1          893       3              Wilkes, Mrs. James (Ellen Needs)  female   \n",
       "2          894       2                     Myles, Mr. Thomas Francis    male   \n",
       "3          895       3                              Wirz, Mr. Albert    male   \n",
       "4          896       3  Hirvonen, Mrs. Alexander (Helga E Lindqvist)  female   \n",
       "\n",
       "    Age  SibSp  Parch   Ticket     Fare Cabin Embarked  Alone  Familiars  \\\n",
       "0  34.5      0      0   330911   7.8292   NaN        Q      1          1   \n",
       "1  47.0      1      0   363272   7.0000   NaN        S      0          2   \n",
       "2  62.0      0      0   240276   9.6875   NaN        Q      1          1   \n",
       "3  27.0      0      0   315154   8.6625   NaN        S      1          1   \n",
       "4  22.0      1      1  3101298  12.2875   NaN        S      0          3   \n",
       "\n",
       "   Survival_Predictions  \n",
       "0                     0  \n",
       "1                     1  \n",
       "2                     0  \n",
       "3                     1  \n",
       "4                     0  "
      ]
     },
     "execution_count": 117,
     "metadata": {},
     "output_type": "execute_result"
    }
   ],
   "source": [
    "prediction = clf.predict(new_test)\n",
    "\n",
    "test_data['Survival_Predictions'] = pd.Series(prediction)\n",
    "test_data.head()"
   ]
  },
  {
   "cell_type": "code",
   "execution_count": null,
   "id": "c8fe27af-29b4-4e3a-a994-35f158c11e69",
   "metadata": {},
   "outputs": [],
   "source": []
  }
 ],
 "metadata": {
  "kernelspec": {
   "display_name": "Python 3 (ipykernel)",
   "language": "python",
   "name": "python3"
  },
  "language_info": {
   "codemirror_mode": {
    "name": "ipython",
    "version": 3
   },
   "file_extension": ".py",
   "mimetype": "text/x-python",
   "name": "python",
   "nbconvert_exporter": "python",
   "pygments_lexer": "ipython3",
   "version": "3.9.18"
  }
 },
 "nbformat": 4,
 "nbformat_minor": 5
}
